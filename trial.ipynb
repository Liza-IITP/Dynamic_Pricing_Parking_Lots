{
  "nbformat": 4,
  "nbformat_minor": 0,
  "metadata": {
    "colab": {
      "provenance": [],
      "authorship_tag": "ABX9TyNMl2UuQmjRGMPn4JxTEry0",
      "include_colab_link": true
    },
    "kernelspec": {
      "name": "python3",
      "display_name": "Python 3"
    },
    "language_info": {
      "name": "python"
    }
  },
  "cells": [
    {
      "cell_type": "markdown",
      "metadata": {
        "id": "view-in-github",
        "colab_type": "text"
      },
      "source": [
        "<a href=\"https://colab.research.google.com/github/Liza-IITP/Dynamic_Pricing_Parking_Lots/blob/main/trial.ipynb\" target=\"_parent\"><img src=\"https://colab.research.google.com/assets/colab-badge.svg\" alt=\"Open In Colab\"/></a>"
      ]
    },
    {
      "cell_type": "code",
      "execution_count": null,
      "metadata": {
        "id": "Jr8eO_CO4NoK"
      },
      "outputs": [],
      "source": [
        "# ------------------ INSTALLATION ------------------\n",
        "!pip install ydata-profiling --quiet\n",
        "!pip install pathway bokeh --quiet\n"
      ]
    },
    {
      "cell_type": "code",
      "source": [
        "# ------------------ IMPORTS ------------------\n",
        "import numpy as np\n",
        "import pandas as pd\n",
        "import matplotlib.pyplot as plt\n",
        "import datetime\n",
        "import pathway as pw\n",
        "import bokeh.plotting\n",
        "import panel as pn\n",
        "pn.extension()"
      ],
      "metadata": {
        "id": "WaGZYAdd4SOZ"
      },
      "execution_count": null,
      "outputs": []
    },
    {
      "cell_type": "code",
      "source": [
        "\n",
        "# ------------------ CSV LOAD + PROFILE REPORT ------------------\n",
        "df = pd.read_csv('/content/Modified - modified.csv')\n",
        "from ydata_profiling import ProfileReport\n",
        "report = ProfileReport(df)\n",
        "report.to_file(output_file='report.html')"
      ],
      "metadata": {
        "id": "D7LKR4ho4UfK"
      },
      "execution_count": null,
      "outputs": []
    },
    {
      "cell_type": "code",
      "source": [
        "\n",
        "# ------------------ FEATURE ENGINEERING ------------------\n",
        "df[\"OccupancyRate\"] = df[\"Occupancy\"] / df[\"Capacity\"]\n",
        "df[\"Timestamp\"] = pd.to_datetime(df[\"LastUpdatedDate\"] + \" \" + df[\"LastUpdatedTime\"],\n",
        "                                 format=\"%d-%m-%Y %H:%M:%S\")\n",
        "vehicle_dummies = pd.get_dummies(df[\"VehicleType\"], prefix=\"VehicleType\").astype(int)\n",
        "df = pd.concat([df, vehicle_dummies], axis=1)\n",
        "df.drop(columns=[\"VehicleType\"], inplace=True)\n",
        "\n",
        "traffic_map = {'low': 0, 'average': 1, 'high': 2}\n",
        "df['TrafficLevel'] = df['TrafficConditionNearby'].map(traffic_map)\n",
        "\n",
        "df.drop(columns=[\"Unnamed: 0\", \"SystemCodeNumber\", \"Capacity\", \"Occupancy\",\n",
        "                 \"Latitude\", \"Longitude\", \"LastUpdatedDate\", \"LastUpdatedTime\", \"TrafficConditionNearby\"],\n",
        "        inplace=True)\n",
        "\n",
        "df[\"DayOfWeek\"] = df[\"Timestamp\"].dt.dayofweek\n",
        "df.drop_duplicates(inplace=True)\n",
        "df = df.sort_values('Timestamp').reset_index(drop=True)\n",
        "\n",
        "print(df.head())\n",
        "df.to_csv(\"parking_stream.csv\", index=False)\n",
        "print(df.columns.tolist())"
      ],
      "metadata": {
        "id": "dLfRHDK94XKU"
      },
      "execution_count": null,
      "outputs": []
    },
    {
      "cell_type": "code",
      "source": [
        "\n",
        "# ------------------ ALPHA ESTIMATION (from scratch) ------------------\n",
        "alpha_dummy = 1.0\n",
        "base_price = 10\n",
        "price_series = [base_price]\n",
        "for occ in df[\"OccupancyRate\"]:\n",
        "    price_series.append(price_series[-1] + alpha_dummy * occ)\n",
        "df[\"SimulatedPrice\"] = price_series[1:]\n",
        "\n",
        "df[\"DeltaPrice\"] = df[\"SimulatedPrice\"].diff()\n",
        "df[\"OccupancyRate_lag\"] = df[\"OccupancyRate\"].shift(1)\n",
        "df_clean = df.dropna(subset=[\"DeltaPrice\", \"OccupancyRate_lag\"])\n",
        "\n",
        "x = df_clean[\"OccupancyRate_lag\"].values\n",
        "y = df_clean[\"DeltaPrice\"].values\n",
        "x_mean = x.mean()\n",
        "y_mean = y.mean()\n",
        "numerator = ((x - x_mean) * (y - y_mean)).sum()\n",
        "denominator = ((x - x_mean) ** 2).sum()\n",
        "alpha = numerator / denominator\n",
        "\n",
        "print(f\"📈 Estimated alpha (from scratch): {alpha:.4f}\")"
      ],
      "metadata": {
        "id": "2fzfWNT04a92"
      },
      "execution_count": null,
      "outputs": []
    },
    {
      "cell_type": "code",
      "source": [
        "\n",
        "# ------------------ PATHWAY STREAM SETUP ------------------\n",
        "class ParkingSchema(pw.Schema):\n",
        "    Timestamp: str\n",
        "    OccupancyRate: float\n",
        "    QueueLength: int\n",
        "    IsSpecialDay: int\n",
        "    TrafficLevel: int\n",
        "    DayOfWeek: int\n",
        "    VehicleType_bike: int\n",
        "    VehicleType_cycle: int\n",
        "    VehicleType_truck: int\n",
        "\n",
        "data = pw.demo.replay_csv(\"parking_stream.csv\", schema=ParkingSchema, input_rate=1000)\n",
        "\n",
        "fmt = \"%Y-%m-%d %H:%M:%S\"\n",
        "data_with_time = data.with_columns(\n",
        "    t=data.Timestamp.dt.strptime(fmt),\n",
        "    day=data.Timestamp.dt.strptime(fmt).dt.strftime(\"%Y-%m-%dT00:00:00\")\n",
        ")"
      ],
      "metadata": {
        "id": "KQgG5RsR4eDg"
      },
      "execution_count": null,
      "outputs": []
    },
    {
      "cell_type": "code",
      "source": [
        "\n",
        "# ------------------ MODEL 1: Alpha-Based Pricing ------------------\n",
        "model1_window = (\n",
        "    data_with_time.windowby(\n",
        "        pw.this.t,\n",
        "        instance=pw.this.day,\n",
        "        window=pw.temporal.tumbling(datetime.timedelta(days=1)),\n",
        "        behavior=pw.temporal.exactly_once_behavior()\n",
        "    )\n",
        "    .reduce(\n",
        "        t=pw.this._pw_window_end,\n",
        "        total_occ=pw.reducers.sum(pw.this.OccupancyRate),\n",
        "    )\n",
        "    .with_columns(\n",
        "        Price_Model1 = 10 + alpha * pw.this.total_occ\n",
        "    )\n",
        ")\n",
        "\n",
        "def plot_model1(source):\n",
        "    fig = bokeh.plotting.figure(\n",
        "        height=400,\n",
        "        width=800,\n",
        "        title=\"Model 1: Linear Dynamic Price Based on Occupancy (Estimated α)\",\n",
        "        x_axis_type=\"datetime\"\n",
        "    )\n",
        "    fig.line(\"t\", \"Price_Model1\", source=source, line_width=2, color=\"blue\")\n",
        "    fig.scatter(\"t\", \"Price_Model1\", source=source, size=6, color=\"red\")\n",
        "    return fig\n",
        "\n",
        "viz_model1 = model1_window.plot(plot_model1, sorting_col=\"t\")\n",
        "pn.Column(viz_model1).servable()\n",
        "\n"
      ],
      "metadata": {
        "id": "iS5LwEhp4gtS"
      },
      "execution_count": null,
      "outputs": []
    },
    {
      "cell_type": "code",
      "source": [
        "# ------------------ MODEL 2: Fluctuation-Based Pricing ------------------\n",
        "delta_window = (\n",
        "    data_with_time.windowby(\n",
        "        pw.this.t,\n",
        "        instance=pw.this.day,\n",
        "        window=pw.temporal.tumbling(datetime.timedelta(days=1)),\n",
        "        behavior=pw.temporal.exactly_once_behavior()\n",
        "    )\n",
        "    .reduce(\n",
        "        t=pw.this._pw_window_end,\n",
        "        occ_max=pw.reducers.max(pw.this.OccupancyRate),\n",
        "        occ_min=pw.reducers.min(pw.this.OccupancyRate),\n",
        "    )\n",
        "    .with_columns(\n",
        "        Price = 10 + (pw.this.occ_max - pw.this.occ_min)\n",
        "    )\n",
        ")\n",
        "\n",
        "def price_plotter(source):\n",
        "    fig = bokeh.plotting.figure(\n",
        "        height=400,\n",
        "        width=800,\n",
        "        title=\"Pathway: Daily Parking Price (Model 2 - Fluctuation Based)\",\n",
        "        x_axis_type=\"datetime\"\n",
        "    )\n",
        "    fig.line(\"t\", \"Price\", source=source, line_width=2, color=\"navy\")\n",
        "    fig.scatter(\"t\", \"Price\", source=source, size=6, color=\"red\")\n",
        "    return fig\n",
        "\n",
        "viz = delta_window.plot(price_plotter, sorting_col=\"t\")\n",
        "pn.Column(viz).servable()"
      ],
      "metadata": {
        "id": "xMIb-8l64pPc"
      },
      "execution_count": null,
      "outputs": []
    },
    {
      "cell_type": "code",
      "source": [
        "# ------------------ RUN ------------------\n",
        "%%capture --no-display\n",
        "pw.run()"
      ],
      "metadata": {
        "id": "NgDTsXGP4rr3"
      },
      "execution_count": null,
      "outputs": []
    }
  ]
}