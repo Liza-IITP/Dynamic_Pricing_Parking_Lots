{
  "nbformat": 4,
  "nbformat_minor": 0,
  "metadata": {
    "colab": {
      "provenance": [],
      "authorship_tag": "ABX9TyMCFrCYiySJ+ofhqYJsKJpH",
      "include_colab_link": true
    },
    "kernelspec": {
      "name": "python3",
      "display_name": "Python 3"
    },
    "language_info": {
      "name": "python"
    }
  },
  "cells": [
    {
      "cell_type": "markdown",
      "metadata": {
        "id": "view-in-github",
        "colab_type": "text"
      },
      "source": [
        "<a href=\"https://colab.research.google.com/github/Liza-IITP/Dynamic_Pricing_Parking_Lots/blob/main/MODEL_3.ipynb\" target=\"_parent\"><img src=\"https://colab.research.google.com/assets/colab-badge.svg\" alt=\"Open In Colab\"/></a>"
      ]
    },
    {
      "cell_type": "code",
      "execution_count": null,
      "metadata": {
        "id": "3MnonWVs0IQH"
      },
      "outputs": [],
      "source": [
        "!pip install pathway bokeh panel --quiet"
      ]
    },
    {
      "cell_type": "code",
      "source": [
        "import pandas as pd\n",
        "import numpy as np\n",
        "import datetime\n",
        "import pathway as pw\n",
        "import bokeh.plotting\n",
        "import panel as pn\n",
        "pn.extension()"
      ],
      "metadata": {
        "id": "Z0u_GBz20RBH"
      },
      "execution_count": null,
      "outputs": []
    },
    {
      "cell_type": "code",
      "source": [
        "df = pd.read_csv(\"data.csv\")\n",
        "df[\"Timestamp\"] = pd.to_datetime(df[\"LastUpdatedDate\"] + \" \" + df[\"LastUpdatedTime\"], format=\"%d-%m-%Y %H:%M:%S\")\n",
        "df[\"OccupancyRate\"] = df[\"Occupancy\"] / df[\"Capacity\"]\n",
        "\n",
        "vehicle_dummies = pd.get_dummies(df[\"VehicleType\"], prefix=\"VehicleType\").astype(int)\n",
        "for vt in [\"bike\", \"car\", \"cycle\", \"truck\"]:\n",
        "    if f\"VehicleType_{vt}\" not in vehicle_dummies:\n",
        "        vehicle_dummies[f\"VehicleType_{vt}\"] = 0\n",
        "df = pd.concat([df, vehicle_dummies], axis=1)\n",
        "\n",
        "weights = {\"VehicleType_bike\": 0.2, \"VehicleType_car\": 1.0, \"VehicleType_cycle\": 0.1, \"VehicleType_truck\": 1.5}\n",
        "df[\"VehicleTypeWeight\"] = sum(df[col] * wt for col, wt in weights.items())\n",
        "\n",
        "df[\"TrafficLevel\"] = df[\"TrafficConditionNearby\"].map({'low': 0, 'average': 1, 'high': 2})\n",
        "df[\"DayOfWeek\"] = df[\"Timestamp\"].dt.dayofweek\n",
        "df[\"TimeSlot\"] = df[\"Timestamp\"].dt.hour + df[\"Timestamp\"].dt.minute / 60\n",
        "\n",
        "def slot_weight(t): return 1.5 if 12 <= t < 14 else (1.2 if 10 <= t < 12 or 14 <= t < 16 else (0.8 if 8 <= t < 10 else 1.0))\n",
        "df[\"SlotWeight\"] = df[\"TimeSlot\"].apply(slot_weight)\n",
        "df[\"ZoneWeight\"] = df[\"Latitude\"].apply(lambda lat: 1.5 if lat > 25.6 else 1.0)\n",
        "\n",
        "df[\"OccRate_MA3\"] = df.groupby(\"SystemCodeNumber\")[\"OccupancyRate\"].transform(lambda x: x.rolling(3, min_periods=1).mean())\n",
        "df[\"OccRate_Trend\"] = df.groupby(\"SystemCodeNumber\")[\"OccupancyRate\"].diff().fillna(0)\n",
        "\n",
        "α, β, γ, δ, ε, τ, λ = 1.0, 0.5, 0.3, 1.5, 1.0, 0.2, 0.5\n",
        "BasePrice = 10\n",
        "\n",
        "df[\"RawDemand\"] = (\n",
        "    α * df[\"OccRate_MA3\"] + β * df[\"QueueLength\"] - γ * df[\"TrafficLevel\"] +\n",
        "    δ * df[\"IsSpecialDay\"] + ε * df[\"VehicleTypeWeight\"] + τ * df[\"OccRate_Trend\"]\n",
        ") * df[\"SlotWeight\"] * df[\"ZoneWeight\"]\n",
        "\n",
        "df[\"NormalizedDemand\"] = ((df[\"RawDemand\"] - df[\"RawDemand\"].min()) /\n",
        "                          (df[\"RawDemand\"].max() - df[\"RawDemand\"].min())).clip(0, 1)\n",
        "\n",
        "df[\"Model2Price\"] = BasePrice * (1 + λ * df[\"NormalizedDemand\"])\n",
        "df[\"Model2Price_Smoothed\"] = df.groupby(\"SystemCodeNumber\")[\"Model2Price\"].transform(lambda x: x.ewm(alpha=0.3).mean())\n"
      ],
      "metadata": {
        "id": "0ZiGJZ0o0VDb"
      },
      "execution_count": null,
      "outputs": []
    },
    {
      "cell_type": "code",
      "source": [
        "\n",
        "def haversine(lat1, lon1, lat2, lon2):\n",
        "    R = 6371\n",
        "    lat1, lon1, lat2, lon2 = map(np.radians, [lat1, lon1, lat2, lon2])\n",
        "    return R * 2 * np.arcsin(np.sqrt(np.sin((lat2-lat1)/2)**2 + np.cos(lat1)*np.cos(lat2)*np.sin((lon2-lon1)/2)**2))\n",
        "\n",
        "def adjust_price(row, df, radius=0.5):\n",
        "    nearby = df[(df[\"Timestamp\"] == row[\"Timestamp\"]) & (df[\"SystemCodeNumber\"] != row[\"SystemCodeNumber\"])].copy()\n",
        "    nearby[\"Distance\"] = haversine(row[\"Latitude\"], row[\"Longitude\"], nearby[\"Latitude\"], nearby[\"Longitude\"])\n",
        "    nearby = nearby[nearby[\"Distance\"] <= radius]\n",
        "    if nearby.empty: return row[\"Model2Price_Smoothed\"]\n",
        "    comp = nearby[\"Model2Price_Smoothed\"].mean()\n",
        "    if row[\"OccupancyRate\"] >= 0.9 and comp < row[\"Model2Price_Smoothed\"]: return row[\"Model2Price_Smoothed\"] - 1\n",
        "    if comp > row[\"Model2Price_Smoothed\"] + 1: return row[\"Model2Price_Smoothed\"] + 1\n",
        "    return row[\"Model2Price_Smoothed\"]\n",
        "\n",
        "df[\"Model3Price_Competitive\"] = df.apply(lambda row: adjust_price(row, df), axis=1)\n",
        "df[\"SuggestReroute\"] = df.apply(lambda r: r[\"OccupancyRate\"] >= 0.95 and r[\"Model3Price_Competitive\"] > 12, axis=1)\n",
        "\n",
        "df.to_csv(\"parking_stream_model3.csv\", index=False)"
      ],
      "metadata": {
        "id": "eoYaDxBM0j6Q"
      },
      "execution_count": null,
      "outputs": []
    },
    {
      "cell_type": "code",
      "source": [
        "class Model3Schema(pw.Schema):\n",
        "    Timestamp: str\n",
        "    SystemCodeNumber: str\n",
        "    OccupancyRate: float\n",
        "    QueueLength: int\n",
        "    IsSpecialDay: int\n",
        "    TrafficLevel: int\n",
        "    DayOfWeek: int\n",
        "    VehicleType_bike: int\n",
        "    VehicleType_car: int\n",
        "    VehicleType_cycle: int\n",
        "    VehicleType_truck: int\n",
        "    VehicleTypeWeight: float\n",
        "    OccRate_MA3: float\n",
        "    OccRate_Trend: float\n",
        "    SlotWeight: float\n",
        "    ZoneWeight: float\n",
        "    RawDemand: float\n",
        "    NormalizedDemand: float\n",
        "    Model2Price_Smoothed: float\n",
        "    Model3Price_Competitive: float\n",
        "    SuggestReroute: bool\n",
        "\n",
        "data = pw.demo.replay_csv(\"parking_stream_model3.csv\", schema=Model3Schema, input_rate=1000)\n",
        "fmt = \"%Y-%m-%d %H:%M:%S\"\n",
        "data_time = data.with_columns(\n",
        "    t=data.Timestamp.dt.strptime(fmt),\n",
        "    day=data.Timestamp.dt.strptime(fmt).dt.strftime(\"%Y-%m-%dT00:00:00\")\n",
        ")\n",
        "\n",
        "window = (\n",
        "    data_time.windowby(\n",
        "        pw.this.t,\n",
        "        instance=(pw.this.SystemCodeNumber, pw.this.day),\n",
        "        window=pw.temporal.tumbling(datetime.timedelta(days=1)),\n",
        "        behavior=pw.temporal.exactly_once_behavior()\n",
        "    ).reduce(\n",
        "        t=pw.this._pw_window_end,\n",
        "        SystemCodeNumber=pw.reducers.any(pw.this.SystemCodeNumber),\n",
        "        sum_price=pw.reducers.sum(pw.this.Model2Price_Smoothed),\n",
        "        count_price=pw.reducers.count(pw.this.Model2Price_Smoothed),\n",
        "    )\n",
        "    .with_columns(\n",
        "          AvgPrice_Model2 = (pw.this.sum_price / pw.this.count_price),\n",
        "    )\n",
        ")\n",
        "\n",
        "def plot(source):\n",
        "    fig = bokeh.plotting.figure(height=450, width=900, title=\"Model 3: Competitive Pricing\", x_axis_type=\"datetime\")\n",
        "    fig.line(\"t\", \"AvgPrice_Model3\", source=source, line_width=2, color=\"orange\")\n",
        "    fig.scatter(\"t\", \"AvgPrice_Model3\", source=source, size=6, color=\"red\")\n",
        "    return fig\n",
        "\n",
        "viz = window.plot(plot, sorting_col=\"t\")\n",
        "pn.panel(viz).servable()\n"
      ],
      "metadata": {
        "id": "fhmekY2702aV"
      },
      "execution_count": null,
      "outputs": []
    },
    {
      "cell_type": "code",
      "source": [
        "%%capture --no-display\n",
        "pw.run()"
      ],
      "metadata": {
        "id": "WCKRObfm1Cwg"
      },
      "execution_count": null,
      "outputs": []
    }
  ]
}
