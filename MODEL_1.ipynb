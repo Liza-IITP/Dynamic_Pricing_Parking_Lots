{
  "nbformat": 4,
  "nbformat_minor": 0,
  "metadata": {
    "colab": {
      "provenance": [],
      "authorship_tag": "ABX9TyMLBZFduXhPVwayNfcze5da",
      "include_colab_link": true
    },
    "kernelspec": {
      "name": "python3",
      "display_name": "Python 3"
    },
    "language_info": {
      "name": "python"
    }
  },
  "cells": [
    {
      "cell_type": "markdown",
      "metadata": {
        "id": "view-in-github",
        "colab_type": "text"
      },
      "source": [
        "<a href=\"https://colab.research.google.com/github/Liza-IITP/Dynamic_Pricing_Parking_Lots/blob/main/MODEL_1.ipynb\" target=\"_parent\"><img src=\"https://colab.research.google.com/assets/colab-badge.svg\" alt=\"Open In Colab\"/></a>"
      ]
    },
    {
      "cell_type": "code",
      "execution_count": null,
      "metadata": {
        "id": "_tVe1VpMqISn"
      },
      "outputs": [],
      "source": [
        "# ------------------ INSTALLATION ------------------\n",
        "!pip install ydata-profiling pathway bokeh panel --quiet\n",
        "\n",
        "# ------------------ IMPORTS ------------------\n",
        "import numpy as np\n",
        "import pandas as pd\n",
        "import matplotlib.pyplot as plt\n",
        "import datetime\n",
        "import pathway as pw\n",
        "import bokeh.plotting\n",
        "import panel as pn\n",
        "pn.extension()\n",
        "\n",
        "# ------------------ LOAD DATA ------------------\n",
        "df = pd.read_csv('data.csv')\n",
        "\n",
        "# ------------------ FEATURE ENGINEERING ------------------\n",
        "df[\"Timestamp\"] = pd.to_datetime(df[\"LastUpdatedDate\"] + \" \" + df[\"LastUpdatedTime\"],\n",
        "                                  format=\"%d-%m-%Y %H:%M:%S\")\n",
        "df[\"OccupancyRate\"] = df[\"Occupancy\"] / df[\"Capacity\"]\n",
        "\n",
        "# Handle missing VehicleType categories\n",
        "vehicle_types = [\"bike\", \"car\", \"cycle\", \"truck\"]\n",
        "vehicle_dummies = pd.get_dummies(df[\"VehicleType\"], prefix=\"VehicleType\").astype(int)\n",
        "for vt in vehicle_types:\n",
        "    col = f\"VehicleType_{vt}\"\n",
        "    if col not in vehicle_dummies:\n",
        "        vehicle_dummies[col] = 0\n",
        "df = pd.concat([df, vehicle_dummies], axis=1)\n",
        "\n",
        "traffic_map = {'low': 0, 'average': 1, 'high': 2}\n",
        "df['TrafficLevel'] = df['TrafficConditionNearby'].map(traffic_map)\n",
        "\n",
        "df[\"DayOfWeek\"] = df[\"Timestamp\"].dt.dayofweek\n",
        "\n",
        "df.drop(columns=[\"Unnamed: 0\", \"Latitude\", \"Longitude\", \"VehicleType\",\n",
        "                 \"LastUpdatedDate\", \"LastUpdatedTime\", \"TrafficConditionNearby\"],\n",
        "        inplace=True)\n",
        "\n",
        "df.drop_duplicates(inplace=True)\n",
        "df = df.sort_values(['SystemCodeNumber', 'Timestamp']).reset_index(drop=True)\n",
        "\n",
        "# Save to CSV for Pathway replay\n",
        "df.to_csv(\"parking_stream_all_spots.csv\", index=False)\n"
      ]
    },
    {
      "cell_type": "code",
      "source": [
        "\n",
        "# ------------------ ALPHA ESTIMATION ------------------\n",
        "df[\"SimulatedPrice\"] = np.nan\n",
        "spot_alpha_list = []\n",
        "\n",
        "for spot_id in df[\"SystemCodeNumber\"].unique():\n",
        "    sub_df = df[df[\"SystemCodeNumber\"] == spot_id].copy()\n",
        "    base_price = 10\n",
        "    alpha_dummy = 1.0\n",
        "    price_series = [base_price]\n",
        "    for occ in sub_df[\"OccupancyRate\"]:\n",
        "        price_series.append(price_series[-1] + alpha_dummy * occ)\n",
        "    sub_df[\"SimulatedPrice\"] = price_series[1:]\n",
        "    sub_df[\"DeltaPrice\"] = sub_df[\"SimulatedPrice\"].diff()\n",
        "    sub_df[\"OccupancyRate_lag\"] = sub_df[\"OccupancyRate\"].shift(1)\n",
        "    sub_df = sub_df.dropna()\n",
        "\n",
        "    x = sub_df[\"OccupancyRate_lag\"].values\n",
        "    y = sub_df[\"DeltaPrice\"].values\n",
        "    alpha = np.sum((x - x.mean()) * (y - y.mean())) / np.sum((x - x.mean())**2)\n",
        "    spot_alpha_list.append(alpha)\n",
        "\n",
        "alpha_avg = np.mean(spot_alpha_list)\n",
        "print(f\"📈 Average Estimated Alpha for All Spots: {alpha_avg:.4f}\")"
      ],
      "metadata": {
        "id": "hq7ErjChrlDv"
      },
      "execution_count": null,
      "outputs": []
    },
    {
      "cell_type": "code",
      "source": [
        "\n",
        "# ------------------ PATHWAY STREAM SETUP ------------------\n",
        "class ParkingSchema(pw.Schema):\n",
        "    Timestamp: str\n",
        "    SystemCodeNumber: str\n",
        "    OccupancyRate: float\n",
        "    Capacity: int\n",
        "    QueueLength: int\n",
        "    IsSpecialDay: int\n",
        "    TrafficLevel: int\n",
        "    DayOfWeek: int\n",
        "    VehicleType_bike: int\n",
        "    VehicleType_car: int\n",
        "    VehicleType_cycle: int\n",
        "    VehicleType_truck: int\n",
        "\n",
        "data = pw.demo.replay_csv(\"parking_stream_all_spots.csv\", schema=ParkingSchema, input_rate=1000)\n",
        "\n",
        "fmt = \"%Y-%m-%d %H:%M:%S\"\n",
        "data_with_time = data.with_columns(\n",
        "    t=data.Timestamp.dt.strptime(fmt),\n",
        "    day=data.Timestamp.dt.strptime(fmt).dt.strftime(\"%Y-%m-%dT00:00:00\")\n",
        ")"
      ],
      "metadata": {
        "id": "qsEBsU5yrhqp"
      },
      "execution_count": null,
      "outputs": []
    },
    {
      "cell_type": "code",
      "source": [
        "# ------------------ MODEL-1: DAILY PRICE BY SPOT ------------------\n",
        "model1_window = (\n",
        "    data_with_time.windowby(\n",
        "        pw.this.t,\n",
        "        instance=(pw.this.SystemCodeNumber, pw.this.day),\n",
        "        window=pw.temporal.tumbling(datetime.timedelta(days=1)),\n",
        "        behavior=pw.temporal.exactly_once_behavior()\n",
        "    )\n",
        "    .reduce(\n",
        "        t=pw.this._pw_window_end,\n",
        "        SystemCodeNumber=pw.reducers.any(pw.this.SystemCodeNumber),\n",
        "        total_occ=pw.reducers.sum(pw.this.OccupancyRate),\n",
        "    )\n",
        "    .with_columns(\n",
        "        Price_Model1 = 10 + alpha_avg * pw.this.total_occ\n",
        "    )\n",
        ")"
      ],
      "metadata": {
        "id": "ldczeh0KrbK7"
      },
      "execution_count": null,
      "outputs": []
    },
    {
      "cell_type": "code",
      "source": [
        "\n",
        "# ------------------ VISUALIZATION ------------------\n",
        "def plot_model1(source):\n",
        "    fig = bokeh.plotting.figure(\n",
        "        height=500,\n",
        "        width=900,\n",
        "        title=\"Model-1: Dynamic Price for All 14 Parking Spots (Daily)\",\n",
        "        x_axis_type=\"datetime\"\n",
        "    )\n",
        "    for code in source.data[\"SystemCodeNumber\"]:\n",
        "        fig.scatter(\"t\", \"Price_Model1\", source=source, size=5, color=\"navy\", legend_label=\"Dynamic Price\")\n",
        "    fig.xaxis.axis_label = \"Date\"\n",
        "    fig.yaxis.axis_label = \"Price\"\n",
        "    return fig\n",
        "\n",
        "viz_model1 = model1_window.plot(plot_model1, sorting_col=\"t\")\n",
        "pn.Column(viz_model1).servable()"
      ],
      "metadata": {
        "id": "PAXWp65vrWOR"
      },
      "execution_count": null,
      "outputs": []
    },
    {
      "cell_type": "code",
      "source": [
        "%%capture --no-display\n",
        "pw.run()"
      ],
      "metadata": {
        "id": "nGv7_7vHrTbs"
      },
      "execution_count": null,
      "outputs": []
    }
  ]
}