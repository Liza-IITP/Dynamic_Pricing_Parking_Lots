{
  "nbformat": 4,
  "nbformat_minor": 0,
  "metadata": {
    "colab": {
      "provenance": [],
      "authorship_tag": "ABX9TyO0Ets1PdOsx/IH2Y3WgWez",
      "include_colab_link": true
    },
    "kernelspec": {
      "name": "python3",
      "display_name": "Python 3"
    },
    "language_info": {
      "name": "python"
    }
  },
  "cells": [
    {
      "cell_type": "markdown",
      "metadata": {
        "id": "view-in-github",
        "colab_type": "text"
      },
      "source": [
        "<a href=\"https://colab.research.google.com/github/Liza-IITP/Dynamic_Pricing_Parking_Lots/blob/main/MODEL_2.ipynb\" target=\"_parent\"><img src=\"https://colab.research.google.com/assets/colab-badge.svg\" alt=\"Open In Colab\"/></a>"
      ]
    },
    {
      "cell_type": "code",
      "source": [
        "!pip install pathway bokeh panel --quiet\n",
        "import numpy as np\n",
        "import pandas as pd\n",
        "import datetime\n",
        "import pathway as pw\n",
        "import bokeh.plotting\n",
        "import panel as pn\n",
        "pn.extension()"
      ],
      "metadata": {
        "id": "Zu56WJaav3If"
      },
      "execution_count": null,
      "outputs": []
    },
    {
      "cell_type": "code",
      "source": [
        "df = pd.read_csv(\"data.csv\")\n",
        "df[\"Timestamp\"] = pd.to_datetime(df[\"LastUpdatedDate\"] + \" \" + df[\"LastUpdatedTime\"],\n",
        "                                  format=\"%d-%m-%Y %H:%M:%S\")\n",
        "df[\"OccupancyRate\"] = df[\"Occupancy\"] / df[\"Capacity\"]\n",
        "vehicle_dummies = pd.get_dummies(df[\"VehicleType\"], prefix=\"VehicleType\").astype(int)\n",
        "vehicle_types = [\"bike\", \"car\", \"cycle\", \"truck\"]\n",
        "for vt in vehicle_types:\n",
        "    if f\"VehicleType_{vt}\" not in vehicle_dummies:\n",
        "        vehicle_dummies[f\"VehicleType_{vt}\"] = 0\n",
        "df = pd.concat([df, vehicle_dummies], axis=1)\n",
        "\n",
        "vehicle_weights = {\n",
        "    \"VehicleType_bike\": 0.2,\n",
        "    \"VehicleType_car\": 1.0,\n",
        "    \"VehicleType_cycle\": 0.1,\n",
        "    \"VehicleType_truck\": 1.5\n",
        "}\n",
        "df[\"VehicleTypeWeight\"] = sum(df[col] * wt for col, wt in vehicle_weights.items())\n",
        "\n",
        "# Map traffic\n",
        "traffic_map = {'low': 0, 'average': 1, 'high': 2}\n",
        "df[\"TrafficLevel\"] = df[\"TrafficConditionNearby\"].map(traffic_map)\n",
        "\n",
        "# Time features\n",
        "df[\"DayOfWeek\"] = df[\"Timestamp\"].dt.dayofweek\n",
        "df[\"TimeSlot\"] = df[\"Timestamp\"].dt.hour + df[\"Timestamp\"].dt.minute / 60\n",
        "\n",
        "def slot_weight(t):\n",
        "    if 8 <= t < 10: return 0.8\n",
        "    elif 10 <= t < 12: return 1.2\n",
        "    elif 12 <= t < 14: return 1.5\n",
        "    elif 14 <= t < 16: return 1.2\n",
        "    else: return 1.0\n",
        "\n",
        "df[\"SlotWeight\"] = df[\"TimeSlot\"].apply(slot_weight)\n",
        "\n",
        "# Zone weight (mock rule: lat > 25.6 → downtown)\n",
        "df[\"ZoneWeight\"] = df[\"Latitude\"].apply(lambda lat: 1.5 if lat > 25.6 else 1.0)\n",
        "\n",
        "# Moving average and trend\n",
        "df[\"OccRate_MA3\"] = df.groupby(\"SystemCodeNumber\")[\"OccupancyRate\"].transform(lambda x: x.rolling(3, min_periods=1).mean())\n",
        "df[\"OccRate_Trend\"] = df.groupby(\"SystemCodeNumber\")[\"OccupancyRate\"].diff().fillna(0)\n",
        "\n",
        "α, β, γ, δ, ε, τ = 1.0, 0.5, 0.3, 1.5, 1.0, 0.2\n",
        "λ = 0.5\n",
        "BasePrice = 10\n",
        "\n",
        "df[\"RawDemand\"] = (\n",
        "    α * df[\"OccRate_MA3\"] +\n",
        "    β * df[\"QueueLength\"] -\n",
        "    γ * df[\"TrafficLevel\"] +\n",
        "    δ * df[\"IsSpecialDay\"] +\n",
        "    ε * df[\"VehicleTypeWeight\"] +\n",
        "    τ * df[\"OccRate_Trend\"]\n",
        ")\n",
        "df[\"RawDemand\"] *= df[\"SlotWeight\"]\n",
        "df[\"RawDemand\"] *= df[\"ZoneWeight\"]\n",
        "\n",
        "# Normalize\n",
        "min_d, max_d = df[\"RawDemand\"].min(), df[\"RawDemand\"].max()\n",
        "df[\"NormalizedDemand\"] = (df[\"RawDemand\"] - min_d) / (max_d - min_d)\n",
        "df[\"NormalizedDemand\"] = df[\"NormalizedDemand\"].clip(0, 1)\n",
        "df[\"Model2Price\"] = BasePrice * (1 + λ * df[\"NormalizedDemand\"])\n",
        "df[\"Model2Price_Smoothed\"] = df.groupby(\"SystemCodeNumber\")[\"Model2Price\"].transform(lambda x: x.ewm(alpha=0.3).mean())\n",
        "\n",
        "df.to_csv(\"parking_stream_model2.csv\", index=False)"
      ],
      "metadata": {
        "id": "1MpTgfVHyWo2"
      },
      "execution_count": null,
      "outputs": []
    },
    {
      "cell_type": "code",
      "source": [
        "class Model2Schema(pw.Schema):\n",
        "    Timestamp: str\n",
        "    SystemCodeNumber: str\n",
        "    OccupancyRate: float\n",
        "    Capacity: int\n",
        "    QueueLength: int\n",
        "    IsSpecialDay: int\n",
        "    TrafficLevel: int\n",
        "    DayOfWeek: int\n",
        "    VehicleType_bike: int\n",
        "    VehicleType_car: int\n",
        "    VehicleType_cycle: int\n",
        "    VehicleType_truck: int\n",
        "    VehicleTypeWeight: float\n",
        "    OccRate_MA3: float\n",
        "    OccRate_Trend: float\n",
        "    SlotWeight: float\n",
        "    ZoneWeight: float\n",
        "    RawDemand: float\n",
        "    NormalizedDemand: float\n",
        "    Model2Price: float\n",
        "    Model2Price_Smoothed: float\n"
      ],
      "metadata": {
        "id": "tdagIqsLyOpH"
      },
      "execution_count": null,
      "outputs": []
    },
    {
      "cell_type": "code",
      "source": [
        "\n",
        "data = pw.demo.replay_csv(\"parking_stream_model2.csv\", schema=Model2Schema, input_rate=1000)\n",
        "fmt = \"%Y-%m-%d %H:%M:%S\"\n",
        "data_time = data.with_columns(\n",
        "    t=data.Timestamp.dt.strptime(fmt),\n",
        "    day=data.Timestamp.dt.strptime(fmt).dt.strftime(\"%Y-%m-%dT00:00:00\"))"
      ],
      "metadata": {
        "id": "nsK3baTzyEzx"
      },
      "execution_count": null,
      "outputs": []
    },
    {
      "cell_type": "code",
      "source": [
        "window = (\n",
        "    data_time.windowby(\n",
        "        pw.this.t,\n",
        "        instance=(pw.this.SystemCodeNumber, pw.this.day),\n",
        "        window=pw.temporal.tumbling(datetime.timedelta(days=1)),\n",
        "        behavior=pw.temporal.exactly_once_behavior()\n",
        "    )\n",
        "    .reduce(\n",
        "        t=pw.this._pw_window_end,\n",
        "        SystemCodeNumber=pw.reducers.any(pw.this.SystemCodeNumber),\n",
        "        sum_price=pw.reducers.sum(pw.this.Model2Price_Smoothed),\n",
        "        count_price=pw.reducers.count(pw.this.Model2Price_Smoothed),\n",
        "    )\n",
        "    .with_columns(\n",
        "          AvgPrice_Model2 = (pw.this.sum_price / pw.this.count_price),\n",
        "    )\n",
        ")"
      ],
      "metadata": {
        "id": "3QSwtal0wf19"
      },
      "execution_count": null,
      "outputs": []
    },
    {
      "cell_type": "code",
      "source": [
        "def plot(source):\n",
        "    fig = bokeh.plotting.figure(\n",
        "        height=450, width=900,\n",
        "        title=\"Model 2 (Enhanced): Smoothed Demand-Based Price per Spot\",\n",
        "        x_axis_type=\"datetime\"\n",
        "    )\n",
        "    fig.line(\"t\", \"AvgPrice_Model2\", source=source, line_width=2, color=\"green\")\n",
        "    fig.scatter(\"t\", \"AvgPrice_Model2\", source=source, size=6, color=\"red\")\n",
        "    fig.xaxis.axis_label = \"Date\"\n",
        "    fig.yaxis.axis_label = \"Avg Price\"\n",
        "    return fig\n",
        "\n",
        "viz = window.plot(plot, sorting_col=\"t\")\n",
        "pn.panel(viz).servable()"
      ],
      "metadata": {
        "id": "pTOi28X0wd9Z"
      },
      "execution_count": null,
      "outputs": []
    },
    {
      "cell_type": "code",
      "source": [
        "\n",
        "%%capture --no-display\n",
        "pw.run()"
      ],
      "metadata": {
        "id": "zsrySj8gwYEW"
      },
      "execution_count": null,
      "outputs": []
    }
  ]
}
